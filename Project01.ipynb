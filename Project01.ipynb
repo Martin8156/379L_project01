{
 "cells": [
  {
   "cell_type": "code",
   "execution_count": 70,
   "id": "8b6024e3-85e7-4ac7-9034-3300f46af742",
   "metadata": {},
   "outputs": [],
   "source": [
    "# PART 1\n",
    "\n",
    "import pandas as pd\n",
    "import numpy as np\n",
    "data = pd.read_csv('project1.csv')"
   ]
  },
  {
   "cell_type": "code",
   "execution_count": 2,
   "id": "c93f9506-d954-44dc-9112-cbd142d32920",
   "metadata": {},
   "outputs": [
    {
     "data": {
      "text/html": [
       "<div>\n",
       "<style scoped>\n",
       "    .dataframe tbody tr th:only-of-type {\n",
       "        vertical-align: middle;\n",
       "    }\n",
       "\n",
       "    .dataframe tbody tr th {\n",
       "        vertical-align: top;\n",
       "    }\n",
       "\n",
       "    .dataframe thead th {\n",
       "        text-align: right;\n",
       "    }\n",
       "</style>\n",
       "<table border=\"1\" class=\"dataframe\">\n",
       "  <thead>\n",
       "    <tr style=\"text-align: right;\">\n",
       "      <th></th>\n",
       "      <th>class</th>\n",
       "      <th>age</th>\n",
       "      <th>menopause</th>\n",
       "      <th>tumor-size</th>\n",
       "      <th>inv-nodes</th>\n",
       "      <th>node-caps</th>\n",
       "      <th>deg-malig</th>\n",
       "      <th>breast</th>\n",
       "      <th>breast-quad</th>\n",
       "      <th>irradiat</th>\n",
       "    </tr>\n",
       "  </thead>\n",
       "  <tbody>\n",
       "    <tr>\n",
       "      <th>0</th>\n",
       "      <td>recurrence-events</td>\n",
       "      <td>30-39</td>\n",
       "      <td>premeno</td>\n",
       "      <td>30-34</td>\n",
       "      <td>0-2</td>\n",
       "      <td>no</td>\n",
       "      <td>3</td>\n",
       "      <td>left</td>\n",
       "      <td>left_low</td>\n",
       "      <td>no</td>\n",
       "    </tr>\n",
       "    <tr>\n",
       "      <th>1</th>\n",
       "      <td>no-recurrence-events</td>\n",
       "      <td>40-49</td>\n",
       "      <td>premeno</td>\n",
       "      <td>20-24</td>\n",
       "      <td>0-2</td>\n",
       "      <td>no</td>\n",
       "      <td>2</td>\n",
       "      <td>right</td>\n",
       "      <td>right_up</td>\n",
       "      <td>no</td>\n",
       "    </tr>\n",
       "    <tr>\n",
       "      <th>2</th>\n",
       "      <td>recurrence-events</td>\n",
       "      <td>40-49</td>\n",
       "      <td>premeno</td>\n",
       "      <td>20-24</td>\n",
       "      <td>0-2</td>\n",
       "      <td>no</td>\n",
       "      <td>2</td>\n",
       "      <td>left</td>\n",
       "      <td>left_low</td>\n",
       "      <td>no</td>\n",
       "    </tr>\n",
       "    <tr>\n",
       "      <th>3</th>\n",
       "      <td>no-recurrence-events</td>\n",
       "      <td>60-69</td>\n",
       "      <td>ge40</td>\n",
       "      <td>15-19</td>\n",
       "      <td>0-2</td>\n",
       "      <td>no</td>\n",
       "      <td>2</td>\n",
       "      <td>right</td>\n",
       "      <td>left_up</td>\n",
       "      <td>no</td>\n",
       "    </tr>\n",
       "    <tr>\n",
       "      <th>4</th>\n",
       "      <td>no-recurrence-events</td>\n",
       "      <td>40-49</td>\n",
       "      <td>premeno</td>\n",
       "      <td>0-4</td>\n",
       "      <td>0-2</td>\n",
       "      <td>no</td>\n",
       "      <td>2</td>\n",
       "      <td>right</td>\n",
       "      <td>right_low</td>\n",
       "      <td>no</td>\n",
       "    </tr>\n",
       "    <tr>\n",
       "      <th>...</th>\n",
       "      <td>...</td>\n",
       "      <td>...</td>\n",
       "      <td>...</td>\n",
       "      <td>...</td>\n",
       "      <td>...</td>\n",
       "      <td>...</td>\n",
       "      <td>...</td>\n",
       "      <td>...</td>\n",
       "      <td>...</td>\n",
       "      <td>...</td>\n",
       "    </tr>\n",
       "    <tr>\n",
       "      <th>381</th>\n",
       "      <td>no-recurrence-events</td>\n",
       "      <td>40-49</td>\n",
       "      <td>premeno</td>\n",
       "      <td>30-34</td>\n",
       "      <td>3-5</td>\n",
       "      <td>no</td>\n",
       "      <td>3</td>\n",
       "      <td>right</td>\n",
       "      <td>left_low</td>\n",
       "      <td>no</td>\n",
       "    </tr>\n",
       "    <tr>\n",
       "      <th>382</th>\n",
       "      <td>no-recurrence-events</td>\n",
       "      <td>60-69</td>\n",
       "      <td>ge40</td>\n",
       "      <td>30-34</td>\n",
       "      <td>3-5</td>\n",
       "      <td>yes</td>\n",
       "      <td>2</td>\n",
       "      <td>right</td>\n",
       "      <td>left_up</td>\n",
       "      <td>yes</td>\n",
       "    </tr>\n",
       "    <tr>\n",
       "      <th>383</th>\n",
       "      <td>no-recurrence-events</td>\n",
       "      <td>70-79</td>\n",
       "      <td>premeno</td>\n",
       "      <td>20-24</td>\n",
       "      <td>0-2</td>\n",
       "      <td>no</td>\n",
       "      <td>3</td>\n",
       "      <td>right</td>\n",
       "      <td>right_up</td>\n",
       "      <td>no</td>\n",
       "    </tr>\n",
       "    <tr>\n",
       "      <th>384</th>\n",
       "      <td>no-recurrence-events</td>\n",
       "      <td>70-79</td>\n",
       "      <td>premeno</td>\n",
       "      <td>30-34</td>\n",
       "      <td>9-11</td>\n",
       "      <td>no</td>\n",
       "      <td>1</td>\n",
       "      <td>right</td>\n",
       "      <td>left_low</td>\n",
       "      <td>yes</td>\n",
       "    </tr>\n",
       "    <tr>\n",
       "      <th>385</th>\n",
       "      <td>no-recurrence-events</td>\n",
       "      <td>60-69</td>\n",
       "      <td>premeno</td>\n",
       "      <td>30-34</td>\n",
       "      <td>9-11</td>\n",
       "      <td>no</td>\n",
       "      <td>2</td>\n",
       "      <td>right</td>\n",
       "      <td>left_low</td>\n",
       "      <td>no</td>\n",
       "    </tr>\n",
       "  </tbody>\n",
       "</table>\n",
       "<p>386 rows × 10 columns</p>\n",
       "</div>"
      ],
      "text/plain": [
       "                    class    age menopause tumor-size inv-nodes node-caps  \\\n",
       "0       recurrence-events  30-39   premeno      30-34       0-2        no   \n",
       "1    no-recurrence-events  40-49   premeno      20-24       0-2        no   \n",
       "2       recurrence-events  40-49   premeno      20-24       0-2        no   \n",
       "3    no-recurrence-events  60-69      ge40      15-19       0-2        no   \n",
       "4    no-recurrence-events  40-49   premeno        0-4       0-2        no   \n",
       "..                    ...    ...       ...        ...       ...       ...   \n",
       "381  no-recurrence-events  40-49   premeno      30-34       3-5        no   \n",
       "382  no-recurrence-events  60-69      ge40      30-34       3-5       yes   \n",
       "383  no-recurrence-events  70-79   premeno      20-24       0-2        no   \n",
       "384  no-recurrence-events  70-79   premeno      30-34      9-11        no   \n",
       "385  no-recurrence-events  60-69   premeno      30-34      9-11        no   \n",
       "\n",
       "     deg-malig breast breast-quad irradiat  \n",
       "0            3   left    left_low       no  \n",
       "1            2  right    right_up       no  \n",
       "2            2   left    left_low       no  \n",
       "3            2  right     left_up       no  \n",
       "4            2  right   right_low       no  \n",
       "..         ...    ...         ...      ...  \n",
       "381          3  right    left_low       no  \n",
       "382          2  right     left_up      yes  \n",
       "383          3  right    right_up       no  \n",
       "384          1  right    left_low      yes  \n",
       "385          2  right    left_low       no  \n",
       "\n",
       "[386 rows x 10 columns]"
      ]
     },
     "execution_count": 2,
     "metadata": {},
     "output_type": "execute_result"
    }
   ],
   "source": [
    "data"
   ]
  },
  {
   "cell_type": "code",
   "execution_count": 3,
   "id": "5f784728-8b81-4db1-bba4-0edd0414c3cb",
   "metadata": {},
   "outputs": [],
   "source": [
    "# Part 1 (6 points): Your objective is to perform Exploratory data analysis on the dataset. Complete the following:"
   ]
  },
  {
   "cell_type": "code",
   "execution_count": 4,
   "id": "dad1de85-9f63-42fb-8245-5b749cd6ed09",
   "metadata": {},
   "outputs": [
    {
     "data": {
      "text/plain": [
       "(386, 10)"
      ]
     },
     "execution_count": 4,
     "metadata": {},
     "output_type": "execute_result"
    }
   ],
   "source": [
    "# Identify shape, size of the raw data (1 point)\n",
    "data.shape"
   ]
  },
  {
   "cell_type": "code",
   "execution_count": 5,
   "id": "a5bb3da8-5a94-4cb4-a344-1b3f98cbe43d",
   "metadata": {},
   "outputs": [
    {
     "data": {
      "text/plain": [
       "3860"
      ]
     },
     "execution_count": 5,
     "metadata": {},
     "output_type": "execute_result"
    }
   ],
   "source": [
    "data.size"
   ]
  },
  {
   "cell_type": "code",
   "execution_count": 6,
   "id": "5a6ffe7c-4ea4-4e95-8c76-dfb72e03ae27",
   "metadata": {},
   "outputs": [
    {
     "name": "stdout",
     "output_type": "stream",
     "text": [
      "<class 'pandas.core.frame.DataFrame'>\n",
      "RangeIndex: 386 entries, 0 to 385\n",
      "Data columns (total 10 columns):\n",
      " #   Column       Non-Null Count  Dtype \n",
      "---  ------       --------------  ----- \n",
      " 0   class        386 non-null    object\n",
      " 1   age          386 non-null    object\n",
      " 2   menopause    386 non-null    object\n",
      " 3   tumor-size   385 non-null    object\n",
      " 4   inv-nodes    385 non-null    object\n",
      " 5   node-caps    386 non-null    object\n",
      " 6   deg-malig    386 non-null    int64 \n",
      " 7   breast       386 non-null    object\n",
      " 8   breast-quad  386 non-null    object\n",
      " 9   irradiat     386 non-null    object\n",
      "dtypes: int64(1), object(9)\n",
      "memory usage: 30.3+ KB\n"
     ]
    }
   ],
   "source": [
    "# Get information about datatypes. Comment if any of the variables need datatype conversion. \n",
    "# Check for duplicate rows and treat them. (1 point)\n",
    "data.info()"
   ]
  },
  {
   "cell_type": "code",
   "execution_count": 7,
   "id": "9f7f2364-dbbf-4dc4-b237-93687d68efcf",
   "metadata": {},
   "outputs": [
    {
     "data": {
      "text/plain": [
       "array(['recurrence-events', 'no-recurrence-events'], dtype=object)"
      ]
     },
     "execution_count": 7,
     "metadata": {},
     "output_type": "execute_result"
    }
   ],
   "source": [
    "data['class'].unique() # this is dependent variable, convert to numerical"
   ]
  },
  {
   "cell_type": "code",
   "execution_count": 8,
   "id": "05e65084-66e3-4440-95cd-3f970ecabf23",
   "metadata": {},
   "outputs": [
    {
     "data": {
      "text/plain": [
       "array(['30-39', '40-49', '60-69', '50-59', '70-79', '20-29'], dtype=object)"
      ]
     },
     "execution_count": 8,
     "metadata": {},
     "output_type": "execute_result"
    }
   ],
   "source": [
    "data['age'].unique() # convert to one-hot encoding"
   ]
  },
  {
   "cell_type": "code",
   "execution_count": 9,
   "id": "c2cceaed-dad9-42ac-a186-92edac43272a",
   "metadata": {},
   "outputs": [
    {
     "data": {
      "text/plain": [
       "array(['premeno', 'ge40', 'lt40'], dtype=object)"
      ]
     },
     "execution_count": 9,
     "metadata": {},
     "output_type": "execute_result"
    }
   ],
   "source": [
    "data['menopause'].unique() # convert to one-hot encoding"
   ]
  },
  {
   "cell_type": "code",
   "execution_count": 10,
   "id": "bc82ede1-e9a7-4ed6-b190-74d70fe3498c",
   "metadata": {},
   "outputs": [
    {
     "data": {
      "text/plain": [
       "array(['30-34', '20-24', '15-19', '0-4', '25-29', '50-54', '10-14',\n",
       "       '40-44', '35-39', '5-9', '45-49', nan], dtype=object)"
      ]
     },
     "execution_count": 10,
     "metadata": {},
     "output_type": "execute_result"
    }
   ],
   "source": [
    "data['tumor-size'].unique() # clean Nan entries convert to one-hot encoding"
   ]
  },
  {
   "cell_type": "code",
   "execution_count": 11,
   "id": "4b4ed80f-95fb-4f41-b8a5-995500ba36c8",
   "metadata": {},
   "outputs": [
    {
     "data": {
      "text/plain": [
       "array(['0-2', '6-8', '9-11', '3-5', '15-17', '12-14', nan, '24-26'],\n",
       "      dtype=object)"
      ]
     },
     "execution_count": 11,
     "metadata": {},
     "output_type": "execute_result"
    }
   ],
   "source": [
    "data['inv-nodes'].unique() # clean NaN entries, convert to one-hot encoding"
   ]
  },
  {
   "cell_type": "code",
   "execution_count": 12,
   "id": "dc6d070b-6a47-4758-9d34-c299a21b843d",
   "metadata": {},
   "outputs": [
    {
     "data": {
      "text/plain": [
       "array(['no', '*', 'yes', '?'], dtype=object)"
      ]
     },
     "execution_count": 12,
     "metadata": {},
     "output_type": "execute_result"
    }
   ],
   "source": [
    "data['node-caps'].unique() # clean data for this column and convert to categorical"
   ]
  },
  {
   "cell_type": "code",
   "execution_count": 13,
   "id": "6d6619b4-709f-403e-9f1e-93efdf6e6436",
   "metadata": {},
   "outputs": [
    {
     "data": {
      "text/plain": [
       "array([3, 2, 1])"
      ]
     },
     "execution_count": 13,
     "metadata": {},
     "output_type": "execute_result"
    }
   ],
   "source": [
    "data['deg-malig'].unique() # keep as int-type"
   ]
  },
  {
   "cell_type": "code",
   "execution_count": 14,
   "id": "58fcf5e3-9751-4c53-b52a-99aac441b7bb",
   "metadata": {},
   "outputs": [
    {
     "data": {
      "text/plain": [
       "array(['left', 'right'], dtype=object)"
      ]
     },
     "execution_count": 14,
     "metadata": {},
     "output_type": "execute_result"
    }
   ],
   "source": [
    "data['breast'].unique() # convert to categorical"
   ]
  },
  {
   "cell_type": "code",
   "execution_count": 15,
   "id": "b653eca8-cd54-4f0b-8160-924d67d0b6dd",
   "metadata": {},
   "outputs": [
    {
     "data": {
      "text/plain": [
       "array(['left_low', 'right_up', 'left_up', 'right_low', '?', 'central',\n",
       "       '*'], dtype=object)"
      ]
     },
     "execution_count": 15,
     "metadata": {},
     "output_type": "execute_result"
    }
   ],
   "source": [
    "data['breast-quad'].unique() # clean data for this column and convert to one-hot encoding"
   ]
  },
  {
   "cell_type": "code",
   "execution_count": 16,
   "id": "0d86ffe1-5fc1-4b5f-9498-afe9ba2ee69c",
   "metadata": {},
   "outputs": [
    {
     "data": {
      "text/plain": [
       "array(['no', 'yes'], dtype=object)"
      ]
     },
     "execution_count": 16,
     "metadata": {},
     "output_type": "execute_result"
    }
   ],
   "source": [
    "data['irradiat'].unique() # convert to categorical"
   ]
  },
  {
   "cell_type": "code",
   "execution_count": 17,
   "id": "34ab748b-3a14-46bc-a977-909c1becd43c",
   "metadata": {},
   "outputs": [
    {
     "data": {
      "text/plain": [
       "11"
      ]
     },
     "execution_count": 17,
     "metadata": {},
     "output_type": "execute_result"
    }
   ],
   "source": [
    "data.duplicated().sum() # found 11 duplicated rows"
   ]
  },
  {
   "cell_type": "code",
   "execution_count": 18,
   "id": "b893b067-3986-46fd-9ae7-543ce548d41e",
   "metadata": {},
   "outputs": [
    {
     "data": {
      "text/plain": [
       "0"
      ]
     },
     "execution_count": 18,
     "metadata": {},
     "output_type": "execute_result"
    }
   ],
   "source": [
    "data.drop_duplicates(inplace=True, ignore_index=True)\n",
    "data.duplicated().sum() # duplicates is now 0"
   ]
  },
  {
   "cell_type": "code",
   "execution_count": 19,
   "id": "daa2acff-9555-4d32-ae59-a7b72afd917f",
   "metadata": {},
   "outputs": [],
   "source": [
    "# Identify missing data and/or invalid values and treat them with suitable mean, median, mode or other method (1 point)"
   ]
  },
  {
   "cell_type": "code",
   "execution_count": 20,
   "id": "5fe43473-c626-40c8-9b39-1a8d487dcbc5",
   "metadata": {},
   "outputs": [
    {
     "data": {
      "text/plain": [
       "class          0\n",
       "age            0\n",
       "menopause      0\n",
       "tumor-size     1\n",
       "inv-nodes      1\n",
       "node-caps      0\n",
       "deg-malig      0\n",
       "breast         0\n",
       "breast-quad    0\n",
       "irradiat       0\n",
       "dtype: int64"
      ]
     },
     "execution_count": 20,
     "metadata": {},
     "output_type": "execute_result"
    }
   ],
   "source": [
    "data.isnull().sum() # there is one none null element in the tumor-size column, and one in the inv-nodes column \n",
    "                    # but now the qeustion is if i should use univariate or multivariate imputation\n",
    "                    # lets use univariate"
   ]
  },
  {
   "cell_type": "code",
   "execution_count": 21,
   "id": "69d177ad-a5c7-4ff5-9883-99bb2eda7724",
   "metadata": {},
   "outputs": [
    {
     "data": {
      "text/html": [
       "<div>\n",
       "<style scoped>\n",
       "    .dataframe tbody tr th:only-of-type {\n",
       "        vertical-align: middle;\n",
       "    }\n",
       "\n",
       "    .dataframe tbody tr th {\n",
       "        vertical-align: top;\n",
       "    }\n",
       "\n",
       "    .dataframe thead th {\n",
       "        text-align: right;\n",
       "    }\n",
       "</style>\n",
       "<table border=\"1\" class=\"dataframe\">\n",
       "  <thead>\n",
       "    <tr style=\"text-align: right;\">\n",
       "      <th></th>\n",
       "      <th>class</th>\n",
       "      <th>age</th>\n",
       "      <th>menopause</th>\n",
       "      <th>tumor-size</th>\n",
       "      <th>inv-nodes</th>\n",
       "      <th>node-caps</th>\n",
       "      <th>deg-malig</th>\n",
       "      <th>breast</th>\n",
       "      <th>breast-quad</th>\n",
       "      <th>irradiat</th>\n",
       "    </tr>\n",
       "  </thead>\n",
       "  <tbody>\n",
       "    <tr>\n",
       "      <th>165</th>\n",
       "      <td>no-recurrence-events</td>\n",
       "      <td>50-59</td>\n",
       "      <td>premeno</td>\n",
       "      <td>NaN</td>\n",
       "      <td>0-2</td>\n",
       "      <td>no</td>\n",
       "      <td>2</td>\n",
       "      <td>right</td>\n",
       "      <td>left_up</td>\n",
       "      <td>no</td>\n",
       "    </tr>\n",
       "  </tbody>\n",
       "</table>\n",
       "</div>"
      ],
      "text/plain": [
       "                    class    age menopause tumor-size inv-nodes node-caps  \\\n",
       "165  no-recurrence-events  50-59   premeno        NaN       0-2        no   \n",
       "\n",
       "     deg-malig breast breast-quad irradiat  \n",
       "165          2  right     left_up       no  "
      ]
     },
     "execution_count": 21,
     "metadata": {},
     "output_type": "execute_result"
    }
   ],
   "source": [
    "data[data['tumor-size'].isna()]"
   ]
  },
  {
   "cell_type": "code",
   "execution_count": 22,
   "id": "080658e0-e2b2-4d80-bdb2-d3ca70b91ceb",
   "metadata": {},
   "outputs": [],
   "source": [
    "data['tumor-size'] = data['tumor-size'].transform(lambda x: x.fillna(x.mode()[0])) # mode-based univariate imputation"
   ]
  },
  {
   "cell_type": "code",
   "execution_count": 23,
   "id": "dd6e1e78-52cc-4c8c-ba8d-3fd096fc56c8",
   "metadata": {},
   "outputs": [
    {
     "data": {
      "text/plain": [
       "class          no-recurrence-events\n",
       "age                           50-59\n",
       "menopause                   premeno\n",
       "tumor-size                    30-34\n",
       "inv-nodes                       0-2\n",
       "node-caps                        no\n",
       "deg-malig                         2\n",
       "breast                        right\n",
       "breast-quad                 left_up\n",
       "irradiat                         no\n",
       "Name: 165, dtype: object"
      ]
     },
     "execution_count": 23,
     "metadata": {},
     "output_type": "execute_result"
    }
   ],
   "source": [
    "data.iloc[165,] # check if entry was changed"
   ]
  },
  {
   "cell_type": "code",
   "execution_count": 24,
   "id": "31917abd-6f8f-4146-935e-b9d8bc832c83",
   "metadata": {},
   "outputs": [
    {
     "data": {
      "text/html": [
       "<div>\n",
       "<style scoped>\n",
       "    .dataframe tbody tr th:only-of-type {\n",
       "        vertical-align: middle;\n",
       "    }\n",
       "\n",
       "    .dataframe tbody tr th {\n",
       "        vertical-align: top;\n",
       "    }\n",
       "\n",
       "    .dataframe thead th {\n",
       "        text-align: right;\n",
       "    }\n",
       "</style>\n",
       "<table border=\"1\" class=\"dataframe\">\n",
       "  <thead>\n",
       "    <tr style=\"text-align: right;\">\n",
       "      <th></th>\n",
       "      <th>class</th>\n",
       "      <th>age</th>\n",
       "      <th>menopause</th>\n",
       "      <th>tumor-size</th>\n",
       "      <th>inv-nodes</th>\n",
       "      <th>node-caps</th>\n",
       "      <th>deg-malig</th>\n",
       "      <th>breast</th>\n",
       "      <th>breast-quad</th>\n",
       "      <th>irradiat</th>\n",
       "    </tr>\n",
       "  </thead>\n",
       "  <tbody>\n",
       "    <tr>\n",
       "      <th>254</th>\n",
       "      <td>recurrence-events</td>\n",
       "      <td>40-49</td>\n",
       "      <td>ge40</td>\n",
       "      <td>25-29</td>\n",
       "      <td>NaN</td>\n",
       "      <td>yes</td>\n",
       "      <td>3</td>\n",
       "      <td>left</td>\n",
       "      <td>right_low</td>\n",
       "      <td>yes</td>\n",
       "    </tr>\n",
       "  </tbody>\n",
       "</table>\n",
       "</div>"
      ],
      "text/plain": [
       "                 class    age menopause tumor-size inv-nodes node-caps  \\\n",
       "254  recurrence-events  40-49      ge40      25-29       NaN       yes   \n",
       "\n",
       "     deg-malig breast breast-quad irradiat  \n",
       "254          3   left   right_low      yes  "
      ]
     },
     "execution_count": 24,
     "metadata": {},
     "output_type": "execute_result"
    }
   ],
   "source": [
    "data[data['inv-nodes'].isna()]"
   ]
  },
  {
   "cell_type": "code",
   "execution_count": 25,
   "id": "e362c96c-91b6-4b5c-bb61-051a20e65fb7",
   "metadata": {},
   "outputs": [],
   "source": [
    "data['inv-nodes'] = data['inv-nodes'].transform(lambda x: x.fillna(x.mode()[0])) # mode-based univariate imputation"
   ]
  },
  {
   "cell_type": "code",
   "execution_count": 26,
   "id": "2d334a0c-938b-4518-9a27-8d3806238bd0",
   "metadata": {},
   "outputs": [
    {
     "data": {
      "text/plain": [
       "class          recurrence-events\n",
       "age                        40-49\n",
       "menopause                   ge40\n",
       "tumor-size                 25-29\n",
       "inv-nodes                    0-2\n",
       "node-caps                    yes\n",
       "deg-malig                      3\n",
       "breast                      left\n",
       "breast-quad            right_low\n",
       "irradiat                     yes\n",
       "Name: 254, dtype: object"
      ]
     },
     "execution_count": 26,
     "metadata": {},
     "output_type": "execute_result"
    }
   ],
   "source": [
    "data.iloc[254,] # check if entry was changed"
   ]
  },
  {
   "cell_type": "code",
   "execution_count": 27,
   "id": "1c7d6a79-b93f-4662-90fb-983c18dbe51a",
   "metadata": {},
   "outputs": [
    {
     "data": {
      "text/plain": [
       "class          0\n",
       "age            0\n",
       "menopause      0\n",
       "tumor-size     0\n",
       "inv-nodes      0\n",
       "node-caps      0\n",
       "deg-malig      0\n",
       "breast         0\n",
       "breast-quad    0\n",
       "irradiat       0\n",
       "dtype: int64"
      ]
     },
     "execution_count": 27,
     "metadata": {},
     "output_type": "execute_result"
    }
   ],
   "source": [
    "data.isnull().sum() # double check missing data and invalid values are treated"
   ]
  },
  {
   "cell_type": "code",
   "execution_count": 28,
   "id": "7fba2d32-a495-45be-93e4-84796ec8c567",
   "metadata": {},
   "outputs": [
    {
     "data": {
      "text/plain": [
       "12"
      ]
     },
     "execution_count": 28,
     "metadata": {},
     "output_type": "execute_result"
    }
   ],
   "source": [
    "# So NaN data has been cleaned, but there are still invalid entires (*, ?) for node-caps and breast-quad columns\n",
    "# Let's clean that now\n",
    "((data['node-caps'] == '*') | (data['node-caps'] == '?')).sum()"
   ]
  },
  {
   "cell_type": "code",
   "execution_count": 29,
   "id": "95b92191-01d9-43b0-b8e5-9170df814398",
   "metadata": {},
   "outputs": [],
   "source": [
    "data['node-caps'] = data['node-caps'].replace(['*', '?'], data['node-caps'].mode()[0])  # mode-based univariate imputation"
   ]
  },
  {
   "cell_type": "code",
   "execution_count": 30,
   "id": "9b4e04eb-f028-4296-93ee-00a6a13be103",
   "metadata": {},
   "outputs": [
    {
     "data": {
      "text/plain": [
       "0"
      ]
     },
     "execution_count": 30,
     "metadata": {},
     "output_type": "execute_result"
    }
   ],
   "source": [
    "((data['node-caps'] == '*') | (data['node-caps'] == '?')).sum() # double check"
   ]
  },
  {
   "cell_type": "code",
   "execution_count": 31,
   "id": "44430c35-7b75-48c4-ad07-d2e205c4c25a",
   "metadata": {},
   "outputs": [
    {
     "data": {
      "text/plain": [
       "6"
      ]
     },
     "execution_count": 31,
     "metadata": {},
     "output_type": "execute_result"
    }
   ],
   "source": [
    "((data['breast-quad'] == '*') | (data['breast-quad'] == '?')).sum()"
   ]
  },
  {
   "cell_type": "code",
   "execution_count": 32,
   "id": "e095f856-7d65-425b-b979-7ad54364bb23",
   "metadata": {},
   "outputs": [],
   "source": [
    "data['breast-quad'] = data['breast-quad'].replace(['*', '?'], data['breast-quad'].mode()[0])  # mode-based univariate imputation"
   ]
  },
  {
   "cell_type": "code",
   "execution_count": 33,
   "id": "7ad55ca9-d360-446c-af09-ade5f86144db",
   "metadata": {},
   "outputs": [
    {
     "data": {
      "text/plain": [
       "0"
      ]
     },
     "execution_count": 33,
     "metadata": {},
     "output_type": "execute_result"
    }
   ],
   "source": [
    "((data['breast-quad'] == '*') | (data['breast-quad'] == '?')).sum() # double check"
   ]
  },
  {
   "cell_type": "code",
   "execution_count": 34,
   "id": "9149a098-8efa-497e-933a-26ff7c6fa35f",
   "metadata": {},
   "outputs": [],
   "source": [
    "# Visualize the dataset through different univariate analysis and comment on your observations (2)"
   ]
  },
  {
   "cell_type": "code",
   "execution_count": 35,
   "id": "118f67be-5701-40f3-97f3-551d61243336",
   "metadata": {},
   "outputs": [],
   "source": [
    "import seaborn as sns\n",
    "import matplotlib.pyplot as plt"
   ]
  },
  {
   "cell_type": "code",
   "execution_count": 36,
   "id": "a703c6d8-4502-4f9d-b622-6fc1cfe62787",
   "metadata": {},
   "outputs": [
    {
     "name": "stdout",
     "output_type": "stream",
     "text": [
      "<class 'pandas.core.frame.DataFrame'>\n",
      "RangeIndex: 375 entries, 0 to 374\n",
      "Data columns (total 10 columns):\n",
      " #   Column       Non-Null Count  Dtype \n",
      "---  ------       --------------  ----- \n",
      " 0   class        375 non-null    object\n",
      " 1   age          375 non-null    object\n",
      " 2   menopause    375 non-null    object\n",
      " 3   tumor-size   375 non-null    object\n",
      " 4   inv-nodes    375 non-null    object\n",
      " 5   node-caps    375 non-null    object\n",
      " 6   deg-malig    375 non-null    int64 \n",
      " 7   breast       375 non-null    object\n",
      " 8   breast-quad  375 non-null    object\n",
      " 9   irradiat     375 non-null    object\n",
      "dtypes: int64(1), object(9)\n",
      "memory usage: 29.4+ KB\n"
     ]
    }
   ],
   "source": [
    "data.info()"
   ]
  },
  {
   "cell_type": "code",
   "execution_count": 37,
   "id": "f87a8258-3066-4dfa-8439-e3f88647f2c0",
   "metadata": {},
   "outputs": [],
   "source": [
    "# Convert datatypes from obj to categorical\n",
    "data['age'] = data['age'].astype(\"category\") # turn to one-hot encoding later\n",
    "data['menopause'] = data['menopause'].astype(\"category\") # turn to one-hot encoding later\n",
    "data['tumor-size'] = data['tumor-size'].astype(\"category\") # turn to one-hot encoding later\n",
    "data['inv-nodes'] = data['inv-nodes'].astype(\"category\") # turn to one-hot encoding later\n",
    "data['node-caps'] = data['node-caps'].astype(\"category\") \n",
    "data['breast'] = data['breast'].astype(\"category\") \n",
    "data['breast-quad'] = data['breast-quad'].astype(\"category\") # turn to one-hot encoding later\n",
    "data['irradiat'] = data['irradiat'].astype(\"category\") "
   ]
  },
  {
   "cell_type": "code",
   "execution_count": 38,
   "id": "645976b6-5b28-4f92-9f35-4d116e3a41da",
   "metadata": {},
   "outputs": [
    {
     "data": {
      "text/plain": [
       "<Axes: xlabel='age', ylabel='Count'>"
      ]
     },
     "execution_count": 38,
     "metadata": {},
     "output_type": "execute_result"
    },
    {
     "data": {
      "image/png": "[encoded data removed]",
      "text/plain": [
       "<Figure size 640x480 with 1 Axes>"
      ]
     },
     "metadata": {},
     "output_type": "display_data"
    }
   ],
   "source": [
    "sns.histplot(data=data['age'], bins=5, kde=True)"
   ]
  },
  {
   "cell_type": "code",
   "execution_count": 39,
   "id": "f1985fc1-cd96-40f0-82f1-b4a0ebf26253",
   "metadata": {},
   "outputs": [
    {
     "data": {
      "text/plain": [
       "<function matplotlib.pyplot.show(close=None, block=None)>"
      ]
     },
     "execution_count": 39,
     "metadata": {},
     "output_type": "execute_result"
    },
    {
     "data": {
      "image/png": "[encoded data removed]",
      "text/plain": [
       "<Figure size 640x480 with 1 Axes>"
      ]
     },
     "metadata": {},
     "output_type": "display_data"
    }
   ],
   "source": [
    "sns.countplot(x=data['tumor-size'])\n",
    "plt.xticks(rotation=45, ha='right')\n",
    "plt.show"
   ]
  },
  {
   "cell_type": "code",
   "execution_count": 40,
   "id": "00ba26c8-2d2e-41c2-9ba5-414c7f16756f",
   "metadata": {},
   "outputs": [
    {
     "data": {
      "text/plain": [
       "<Axes: xlabel='menopause', ylabel='Count'>"
      ]
     },
     "execution_count": 40,
     "metadata": {},
     "output_type": "execute_result"
    },
    {
     "data": {
      "image/png": "[encoded data removed]",
      "text/plain": [
       "<Figure size 640x480 with 1 Axes>"
      ]
     },
     "metadata": {},
     "output_type": "display_data"
    }
   ],
   "source": [
    "sns.histplot(data=data['menopause'])"
   ]
  },
  {
   "cell_type": "code",
   "execution_count": 41,
   "id": "c6992f3b-91aa-45d5-a0e3-c8008abd6a0a",
   "metadata": {},
   "outputs": [
    {
     "data": {
      "text/plain": [
       "<Axes: xlabel='inv-nodes'>"
      ]
     },
     "execution_count": 41,
     "metadata": {},
     "output_type": "execute_result"
    },
    {
     "data": {
      "image/png": "[encoded data removed]",
      "text/plain": [
       "<Figure size 640x480 with 1 Axes>"
      ]
     },
     "metadata": {},
     "output_type": "display_data"
    }
   ],
   "source": [
    "#sns.histplot(data=data['inv-nodes'])\n",
    "sns.boxplot(data=data, x='inv-nodes')"
   ]
  },
  {
   "cell_type": "code",
   "execution_count": 42,
   "id": "241d7d97-dfd2-48ab-b005-b70f607f131a",
   "metadata": {},
   "outputs": [
    {
     "data": {
      "text/plain": [
       "<Axes: xlabel='node-caps', ylabel='Count'>"
      ]
     },
     "execution_count": 42,
     "metadata": {},
     "output_type": "execute_result"
    },
    {
     "data": {
      "image/png": "[encoded data removed]",
      "text/plain": [
       "<Figure size 640x480 with 1 Axes>"
      ]
     },
     "metadata": {},
     "output_type": "display_data"
    }
   ],
   "source": [
    "sns.histplot(data=data['node-caps'])"
   ]
  },
  {
   "cell_type": "code",
   "execution_count": 43,
   "id": "84b7a124-0efa-49b3-9bae-cc3eee28c329",
   "metadata": {},
   "outputs": [
    {
     "data": {
      "text/plain": [
       "<Axes: xlabel='breast', ylabel='Count'>"
      ]
     },
     "execution_count": 43,
     "metadata": {},
     "output_type": "execute_result"
    },
    {
     "data": {
      "image/png": "[encoded data removed]",
      "text/plain": [
       "<Figure size 640x480 with 1 Axes>"
      ]
     },
     "metadata": {},
     "output_type": "display_data"
    }
   ],
   "source": [
    "sns.histplot(data=data['breast'])"
   ]
  },
  {
   "cell_type": "code",
   "execution_count": 44,
   "id": "2a37e36e-61ca-48aa-b895-5d6f6040fc40",
   "metadata": {},
   "outputs": [
    {
     "data": {
      "text/plain": [
       "<Axes: xlabel='breast-quad', ylabel='Count'>"
      ]
     },
     "execution_count": 44,
     "metadata": {},
     "output_type": "execute_result"
    },
    {
     "data": {
      "image/png": "[encoded data removed]",
      "text/plain": [
       "<Figure size 640x480 with 1 Axes>"
      ]
     },
     "metadata": {},
     "output_type": "display_data"
    }
   ],
   "source": [
    "sns.histplot(data=data['breast-quad'])"
   ]
  },
  {
   "cell_type": "code",
   "execution_count": 45,
   "id": "dfd83f99-3f48-4d21-a64d-d5b9e140d71a",
   "metadata": {},
   "outputs": [
    {
     "data": {
      "text/plain": [
       "<Axes: xlabel='irradiat', ylabel='Count'>"
      ]
     },
     "execution_count": 45,
     "metadata": {},
     "output_type": "execute_result"
    },
    {
     "data": {
      "image/png": "[encoded data removed]",
      "text/plain": [
       "<Figure size 640x480 with 1 Axes>"
      ]
     },
     "metadata": {},
     "output_type": "display_data"
    }
   ],
   "source": [
    "sns.histplot(data=data['irradiat'])"
   ]
  },
  {
   "cell_type": "code",
   "execution_count": null,
   "id": "074f77ff-9190-4368-84b1-8b63504dc525",
   "metadata": {},
   "outputs": [],
   "source": [
    "# Observations:\n",
    "    # Plot for tumor size is skewed right - i.e. some outliers\n",
    "    # Less than 1/3 of the individuals in data have node-caps"
   ]
  },
  {
   "cell_type": "code",
   "execution_count": 46,
   "id": "6097ebe9-4be7-4c82-bdd1-7ae4c9c93be9",
   "metadata": {},
   "outputs": [],
   "source": [
    "# Perform one-hot encoding on categorical variables (1 point) ~ NOTE: one-hot encoding applies to NONORDINAL CATEGORICALS"
   ]
  },
  {
   "cell_type": "code",
   "execution_count": 47,
   "id": "0d34975d-f66a-4756-a02f-3a511fbf61d0",
   "metadata": {},
   "outputs": [],
   "source": [
    "# change class to int type so that SGDClassifier works\n",
    "data = pd.get_dummies(data, columns=[\"age\"], drop_first=True)\n",
    "data = pd.get_dummies(data, columns=[\"menopause\"], drop_first=True)\n",
    "data = pd.get_dummies(data, columns=[\"tumor-size\"], drop_first=True)\n",
    "data = pd.get_dummies(data, columns=[\"inv-nodes\"], drop_first=True)\n",
    "data = pd.get_dummies(data, columns=[\"breast-quad\"], drop_first=True)\n",
    "\n",
    "# below are one hot encoded for columns that were binary categorical\n",
    "data = pd.get_dummies(data, columns=[\"class\"], drop_first=True)\n",
    "data = pd.get_dummies(data, columns=[\"node-caps\"], drop_first=True)\n",
    "data = pd.get_dummies(data, columns=[\"breast\"], drop_first=True)\n",
    "data = pd.get_dummies(data, columns=[\"irradiat\"], drop_first=True)"
   ]
  },
  {
   "cell_type": "code",
   "execution_count": 48,
   "id": "ed8c1e92-4568-4b90-b46e-be010d6caaba",
   "metadata": {},
   "outputs": [
    {
     "name": "stdout",
     "output_type": "stream",
     "text": [
      "<class 'pandas.core.frame.DataFrame'>\n",
      "RangeIndex: 375 entries, 0 to 374\n",
      "Data columns (total 32 columns):\n",
      " #   Column                   Non-Null Count  Dtype\n",
      "---  ------                   --------------  -----\n",
      " 0   deg-malig                375 non-null    int64\n",
      " 1   age_30-39                375 non-null    bool \n",
      " 2   age_40-49                375 non-null    bool \n",
      " 3   age_50-59                375 non-null    bool \n",
      " 4   age_60-69                375 non-null    bool \n",
      " 5   age_70-79                375 non-null    bool \n",
      " 6   menopause_lt40           375 non-null    bool \n",
      " 7   menopause_premeno        375 non-null    bool \n",
      " 8   tumor-size_10-14         375 non-null    bool \n",
      " 9   tumor-size_15-19         375 non-null    bool \n",
      " 10  tumor-size_20-24         375 non-null    bool \n",
      " 11  tumor-size_25-29         375 non-null    bool \n",
      " 12  tumor-size_30-34         375 non-null    bool \n",
      " 13  tumor-size_35-39         375 non-null    bool \n",
      " 14  tumor-size_40-44         375 non-null    bool \n",
      " 15  tumor-size_45-49         375 non-null    bool \n",
      " 16  tumor-size_5-9           375 non-null    bool \n",
      " 17  tumor-size_50-54         375 non-null    bool \n",
      " 18  inv-nodes_12-14          375 non-null    bool \n",
      " 19  inv-nodes_15-17          375 non-null    bool \n",
      " 20  inv-nodes_24-26          375 non-null    bool \n",
      " 21  inv-nodes_3-5            375 non-null    bool \n",
      " 22  inv-nodes_6-8            375 non-null    bool \n",
      " 23  inv-nodes_9-11           375 non-null    bool \n",
      " 24  breast-quad_left_low     375 non-null    bool \n",
      " 25  breast-quad_left_up      375 non-null    bool \n",
      " 26  breast-quad_right_low    375 non-null    bool \n",
      " 27  breast-quad_right_up     375 non-null    bool \n",
      " 28  class_recurrence-events  375 non-null    bool \n",
      " 29  node-caps_yes            375 non-null    bool \n",
      " 30  breast_right             375 non-null    bool \n",
      " 31  irradiat_yes             375 non-null    bool \n",
      "dtypes: bool(31), int64(1)\n",
      "memory usage: 14.4 KB\n"
     ]
    }
   ],
   "source": [
    "data.info() "
   ]
  },
  {
   "cell_type": "code",
   "execution_count": 49,
   "id": "47a8305c-2bd4-48fe-a39d-744a7dc0a013",
   "metadata": {},
   "outputs": [],
   "source": [
    "# PART 2"
   ]
  },
  {
   "cell_type": "code",
   "execution_count": 50,
   "id": "58fcf305-e61a-4365-93a9-8cb80f999eb3",
   "metadata": {},
   "outputs": [],
   "source": [
    "# Split the data into training and test datasets.\n",
    "# Make sure your split is reproducible and that it maintains roughly the proportion of each class of dependent variable. (1 point)"
   ]
  },
  {
   "cell_type": "code",
   "execution_count": 61,
   "id": "bdbfcdb7-c58d-4564-9853-59c6e20809f9",
   "metadata": {},
   "outputs": [],
   "source": [
    "from sklearn.model_selection import train_test_split\n",
    "x = data.drop('class_recurrence-events',axis=1) # remove class column\n",
    "y = data['class_recurrence-events']\n",
    "x_train, x_test, y_train, y_test = train_test_split(x, y, test_size=0.3, stratify=y, random_state=1)"
   ]
  },
  {
   "cell_type": "code",
   "execution_count": 62,
   "id": "c2c57319-f104-45be-95c4-2d3b42c3ba91",
   "metadata": {},
   "outputs": [],
   "source": [
    "# Perform classification using (6 points)"
   ]
  },
  {
   "cell_type": "code",
   "execution_count": 63,
   "id": "63d18133-2ad8-4413-a31a-36e429785412",
   "metadata": {},
   "outputs": [],
   "source": [
    "# K-Nearest Neighbor Classifier"
   ]
  },
  {
   "cell_type": "code",
   "execution_count": 64,
   "id": "17d59eac-215b-44de-bd99-2c976f586d10",
   "metadata": {},
   "outputs": [
    {
     "data": {
      "text/html": [
       "<style>#sk-container-id-3 {color: black;}#sk-container-id-3 pre{padding: 0;}#sk-container-id-3 div.sk-toggleable {background-color: white;}#sk-container-id-3 label.sk-toggleable__label {cursor: pointer;display: block;width: 100%;margin-bottom: 0;padding: 0.3em;box-sizing: border-box;text-align: center;}#sk-container-id-3 label.sk-toggleable__label-arrow:before {content: \"▸\";float: left;margin-right: 0.25em;color: #696969;}#sk-container-id-3 label.sk-toggleable__label-arrow:hover:before {color: black;}#sk-container-id-3 div.sk-estimator:hover label.sk-toggleable__label-arrow:before {color: black;}#sk-container-id-3 div.sk-toggleable__content {max-height: 0;max-width: 0;overflow: hidden;text-align: left;background-color: #f0f8ff;}#sk-container-id-3 div.sk-toggleable__content pre {margin: 0.2em;color: black;border-radius: 0.25em;background-color: #f0f8ff;}#sk-container-id-3 input.sk-toggleable__control:checked~div.sk-toggleable__content {max-height: 200px;max-width: 100%;overflow: auto;}#sk-container-id-3 input.sk-toggleable__control:checked~label.sk-toggleable__label-arrow:before {content: \"▾\";}#sk-container-id-3 div.sk-estimator input.sk-toggleable__control:checked~label.sk-toggleable__label {background-color: #d4ebff;}#sk-container-id-3 div.sk-label input.sk-toggleable__control:checked~label.sk-toggleable__label {background-color: #d4ebff;}#sk-container-id-3 input.sk-hidden--visually {border: 0;clip: rect(1px 1px 1px 1px);clip: rect(1px, 1px, 1px, 1px);height: 1px;margin: -1px;overflow: hidden;padding: 0;position: absolute;width: 1px;}#sk-container-id-3 div.sk-estimator {font-family: monospace;background-color: #f0f8ff;border: 1px dotted black;border-radius: 0.25em;box-sizing: border-box;margin-bottom: 0.5em;}#sk-container-id-3 div.sk-estimator:hover {background-color: #d4ebff;}#sk-container-id-3 div.sk-parallel-item::after {content: \"\";width: 100%;border-bottom: 1px solid gray;flex-grow: 1;}#sk-container-id-3 div.sk-label:hover label.sk-toggleable__label {background-color: #d4ebff;}#sk-container-id-3 div.sk-serial::before {content: \"\";position: absolute;border-left: 1px solid gray;box-sizing: border-box;top: 0;bottom: 0;left: 50%;z-index: 0;}#sk-container-id-3 div.sk-serial {display: flex;flex-direction: column;align-items: center;background-color: white;padding-right: 0.2em;padding-left: 0.2em;position: relative;}#sk-container-id-3 div.sk-item {position: relative;z-index: 1;}#sk-container-id-3 div.sk-parallel {display: flex;align-items: stretch;justify-content: center;background-color: white;position: relative;}#sk-container-id-3 div.sk-item::before, #sk-container-id-3 div.sk-parallel-item::before {content: \"\";position: absolute;border-left: 1px solid gray;box-sizing: border-box;top: 0;bottom: 0;left: 50%;z-index: -1;}#sk-container-id-3 div.sk-parallel-item {display: flex;flex-direction: column;z-index: 1;position: relative;background-color: white;}#sk-container-id-3 div.sk-parallel-item:first-child::after {align-self: flex-end;width: 50%;}#sk-container-id-3 div.sk-parallel-item:last-child::after {align-self: flex-start;width: 50%;}#sk-container-id-3 div.sk-parallel-item:only-child::after {width: 0;}#sk-container-id-3 div.sk-dashed-wrapped {border: 1px dashed gray;margin: 0 0.4em 0.5em 0.4em;box-sizing: border-box;padding-bottom: 0.4em;background-color: white;}#sk-container-id-3 div.sk-label label {font-family: monospace;font-weight: bold;display: inline-block;line-height: 1.2em;}#sk-container-id-3 div.sk-label-container {text-align: center;}#sk-container-id-3 div.sk-container {/* jupyter's `normalize.less` sets `[hidden] { display: none; }` but bootstrap.min.css set `[hidden] { display: none !important; }` so we also need the `!important` here to be able to override the default hidden behavior on the sphinx rendered scikit-learn.org. See: https://github.com/scikit-learn/scikit-learn/issues/21755 */display: inline-block !important;position: relative;}#sk-container-id-3 div.sk-text-repr-fallback {display: none;}</style><div id=\"sk-container-id-3\" class=\"sk-top-container\"><div class=\"sk-text-repr-fallback\"><pre>KNeighborsClassifier(n_neighbors=3)</pre><b>In a Jupyter environment, please rerun this cell to show the HTML representation or trust the notebook. <br />On GitHub, the HTML representation is unable to render, please try loading this page with nbviewer.org.</b></div><div class=\"sk-container\" hidden><div class=\"sk-item\"><div class=\"sk-estimator sk-toggleable\"><input class=\"sk-toggleable__control sk-hidden--visually\" id=\"sk-estimator-id-3\" type=\"checkbox\" checked><label for=\"sk-estimator-id-3\" class=\"sk-toggleable__label sk-toggleable__label-arrow\">KNeighborsClassifier</label><div class=\"sk-toggleable__content\"><pre>KNeighborsClassifier(n_neighbors=3)</pre></div></div></div></div></div>"
      ],
      "text/plain": [
       "KNeighborsClassifier(n_neighbors=3)"
      ]
     },
     "execution_count": 64,
     "metadata": {},
     "output_type": "execute_result"
    }
   ],
   "source": [
    "from sklearn.neighbors import KNeighborsClassifier\n",
    "knn = KNeighborsClassifier(n_neighbors=3)\n",
    "knn.fit(x_train, y_train)"
   ]
  },
  {
   "cell_type": "code",
   "execution_count": 65,
   "id": "6310b737-d187-48be-83e6-e63128bc9e31",
   "metadata": {},
   "outputs": [],
   "source": [
    "# K-Nearest Neighbor Classifier using Grid search CV"
   ]
  },
  {
   "cell_type": "code",
   "execution_count": 82,
   "id": "efae204f-40f1-4498-91e5-60246a76874a",
   "metadata": {},
   "outputs": [],
   "source": [
    "from sklearn.model_selection import GridSearchCV\n",
    "knn_search_recall = KNeighborsClassifier()\n",
    "param_grid = {\"n_neighbors\": np.arange(1, 20)}\n",
    "knn_gscv = GridSearchCV(knn_search_recall, param_grid, cv=5, scoring='recall')\n",
    "knn_gscv.fit(x_train, y_train)\n",
    "knn_gscv.best_params_ # prints n = 1\n",
    "best_recall = knn_gscv.best_estimator_"
   ]
  },
  {
   "cell_type": "code",
   "execution_count": 62,
   "id": "e29a6e40-5d7d-4751-8cd4-83231886eaba",
   "metadata": {},
   "outputs": [],
   "source": [
    "# Linear classification"
   ]
  },
  {
   "cell_type": "code",
   "execution_count": 53,
   "id": "4ae27438-de18-4488-84c1-206f120f484a",
   "metadata": {},
   "outputs": [
    {
     "data": {
      "text/html": [
       "<style>#sk-container-id-1 {color: black;}#sk-container-id-1 pre{padding: 0;}#sk-container-id-1 div.sk-toggleable {background-color: white;}#sk-container-id-1 label.sk-toggleable__label {cursor: pointer;display: block;width: 100%;margin-bottom: 0;padding: 0.3em;box-sizing: border-box;text-align: center;}#sk-container-id-1 label.sk-toggleable__label-arrow:before {content: \"▸\";float: left;margin-right: 0.25em;color: #696969;}#sk-container-id-1 label.sk-toggleable__label-arrow:hover:before {color: black;}#sk-container-id-1 div.sk-estimator:hover label.sk-toggleable__label-arrow:before {color: black;}#sk-container-id-1 div.sk-toggleable__content {max-height: 0;max-width: 0;overflow: hidden;text-align: left;background-color: #f0f8ff;}#sk-container-id-1 div.sk-toggleable__content pre {margin: 0.2em;color: black;border-radius: 0.25em;background-color: #f0f8ff;}#sk-container-id-1 input.sk-toggleable__control:checked~div.sk-toggleable__content {max-height: 200px;max-width: 100%;overflow: auto;}#sk-container-id-1 input.sk-toggleable__control:checked~label.sk-toggleable__label-arrow:before {content: \"▾\";}#sk-container-id-1 div.sk-estimator input.sk-toggleable__control:checked~label.sk-toggleable__label {background-color: #d4ebff;}#sk-container-id-1 div.sk-label input.sk-toggleable__control:checked~label.sk-toggleable__label {background-color: #d4ebff;}#sk-container-id-1 input.sk-hidden--visually {border: 0;clip: rect(1px 1px 1px 1px);clip: rect(1px, 1px, 1px, 1px);height: 1px;margin: -1px;overflow: hidden;padding: 0;position: absolute;width: 1px;}#sk-container-id-1 div.sk-estimator {font-family: monospace;background-color: #f0f8ff;border: 1px dotted black;border-radius: 0.25em;box-sizing: border-box;margin-bottom: 0.5em;}#sk-container-id-1 div.sk-estimator:hover {background-color: #d4ebff;}#sk-container-id-1 div.sk-parallel-item::after {content: \"\";width: 100%;border-bottom: 1px solid gray;flex-grow: 1;}#sk-container-id-1 div.sk-label:hover label.sk-toggleable__label {background-color: #d4ebff;}#sk-container-id-1 div.sk-serial::before {content: \"\";position: absolute;border-left: 1px solid gray;box-sizing: border-box;top: 0;bottom: 0;left: 50%;z-index: 0;}#sk-container-id-1 div.sk-serial {display: flex;flex-direction: column;align-items: center;background-color: white;padding-right: 0.2em;padding-left: 0.2em;position: relative;}#sk-container-id-1 div.sk-item {position: relative;z-index: 1;}#sk-container-id-1 div.sk-parallel {display: flex;align-items: stretch;justify-content: center;background-color: white;position: relative;}#sk-container-id-1 div.sk-item::before, #sk-container-id-1 div.sk-parallel-item::before {content: \"\";position: absolute;border-left: 1px solid gray;box-sizing: border-box;top: 0;bottom: 0;left: 50%;z-index: -1;}#sk-container-id-1 div.sk-parallel-item {display: flex;flex-direction: column;z-index: 1;position: relative;background-color: white;}#sk-container-id-1 div.sk-parallel-item:first-child::after {align-self: flex-end;width: 50%;}#sk-container-id-1 div.sk-parallel-item:last-child::after {align-self: flex-start;width: 50%;}#sk-container-id-1 div.sk-parallel-item:only-child::after {width: 0;}#sk-container-id-1 div.sk-dashed-wrapped {border: 1px dashed gray;margin: 0 0.4em 0.5em 0.4em;box-sizing: border-box;padding-bottom: 0.4em;background-color: white;}#sk-container-id-1 div.sk-label label {font-family: monospace;font-weight: bold;display: inline-block;line-height: 1.2em;}#sk-container-id-1 div.sk-label-container {text-align: center;}#sk-container-id-1 div.sk-container {/* jupyter's `normalize.less` sets `[hidden] { display: none; }` but bootstrap.min.css set `[hidden] { display: none !important; }` so we also need the `!important` here to be able to override the default hidden behavior on the sphinx rendered scikit-learn.org. See: https://github.com/scikit-learn/scikit-learn/issues/21755 */display: inline-block !important;position: relative;}#sk-container-id-1 div.sk-text-repr-fallback {display: none;}</style><div id=\"sk-container-id-1\" class=\"sk-top-container\"><div class=\"sk-text-repr-fallback\"><pre>SGDClassifier(alpha=0.01, loss=&#x27;perceptron&#x27;)</pre><b>In a Jupyter environment, please rerun this cell to show the HTML representation or trust the notebook. <br />On GitHub, the HTML representation is unable to render, please try loading this page with nbviewer.org.</b></div><div class=\"sk-container\" hidden><div class=\"sk-item\"><div class=\"sk-estimator sk-toggleable\"><input class=\"sk-toggleable__control sk-hidden--visually\" id=\"sk-estimator-id-1\" type=\"checkbox\" checked><label for=\"sk-estimator-id-1\" class=\"sk-toggleable__label sk-toggleable__label-arrow\">SGDClassifier</label><div class=\"sk-toggleable__content\"><pre>SGDClassifier(alpha=0.01, loss=&#x27;perceptron&#x27;)</pre></div></div></div></div></div>"
      ],
      "text/plain": [
       "SGDClassifier(alpha=0.01, loss='perceptron')"
      ]
     },
     "execution_count": 53,
     "metadata": {},
     "output_type": "execute_result"
    }
   ],
   "source": [
    "from sklearn.linear_model import SGDClassifier\n",
    "clf = SGDClassifier(loss=\"perceptron\", alpha=0.01)\n",
    "clf.fit(x_train, y_train)"
   ]
  },
  {
   "cell_type": "code",
   "execution_count": 81,
   "id": "355cdb78-645a-4ff1-aa36-adb70d777465",
   "metadata": {},
   "outputs": [
    {
     "name": "stdout",
     "output_type": "stream",
     "text": [
      "KNeighborsClassifier(n_neighbors=3)\n",
      "Accuracy on test data is : 0.6\n",
      "Accuracy on train data is : 0.77\n",
      "Precision on test data is : 0.35\n",
      "Precision on train data is : 0.7\n",
      "Recall on test data is : 0.31\n",
      "Recall on train data is : 0.53\n",
      "F1-score on test data is : 0.33\n",
      "F1-score on train data is : 0.6\n",
      "\n",
      "KNeighborsClassifier(n_neighbors=1)\n",
      "Accuracy on test data is : 0.58\n",
      "Accuracy on train data is : 0.98\n",
      "Precision on test data is : 0.34\n",
      "Precision on train data is : 0.97\n",
      "Recall on test data is : 0.36\n",
      "Recall on train data is : 0.99\n",
      "F1-score on test data is : 0.35\n",
      "F1-score on train data is : 0.98\n",
      "\n",
      "SGDClassifier(alpha=0.01, loss='perceptron')\n",
      "Accuracy on test data is : 0.41\n",
      "Accuracy on train data is : 0.55\n",
      "Precision on test data is : 0.32\n",
      "Precision on train data is : 0.41\n",
      "Recall on test data is : 0.75\n",
      "Recall on train data is : 0.84\n",
      "F1-score on test data is : 0.45\n",
      "F1-score on train data is : 0.55\n",
      "\n"
     ]
    }
   ],
   "source": [
    "# Print report showing accuracy, recall, precision and f1-score for each classification model. \n",
    "from sklearn.metrics import accuracy_score, precision_score, recall_score, f1_score\n",
    "models = [knn, best_recall, clf]\n",
    "for m in models:\n",
    "    print(m)\n",
    "    # print accuracy\n",
    "    accuracy_test=accuracy_score(y_test, m.predict(x_test))\n",
    "    print('Accuracy on test data is : {:.2}'.format(accuracy_test))\n",
    "    accuracy_train=accuracy_score(y_train, m.predict(x_train))\n",
    "    print('Accuracy on train data is : {:.2}'.format(accuracy_train))\n",
    "    \n",
    "    # print precision\n",
    "    precision_test = precision_score(y_test, m.predict(x_test))\n",
    "    print('Precision on test data is : {:.2}'.format(precision_test))\n",
    "    precision_train = precision_score(y_train, m.predict(x_train))\n",
    "    print('Precision on train data is : {:.2}'.format(precision_train))\n",
    "    \n",
    "    # print recall\n",
    "    recall_test = recall_score(y_test, m.predict(x_test))\n",
    "    print('Recall on test data is : {:.2}'.format(recall_test))\n",
    "    recall_train = recall_score(y_train, m.predict(x_train))\n",
    "    print('Recall on train data is : {:.2}'.format(recall_train))\n",
    "    \n",
    "    \n",
    "    # print f1-score\n",
    "    f1_test = f1_score(y_test, m.predict(x_test))\n",
    "    print('F1-score on test data is : {:.2}'.format(f1_test))\n",
    "    f1_train = f1_score(y_train, m.predict(x_train))\n",
    "    print('F1-score on train data is : {:.2}'.format(f1_train))\n",
    "    print()"
   ]
  },
  {
   "cell_type": "code",
   "execution_count": null,
   "id": "ebdec2c6-0bda-4a97-865d-5dc635eb0650",
   "metadata": {},
   "outputs": [],
   "source": [
    "# Which metric is most important for this problem? (You will explain your answer in the report in Part 3). ( 2 points)\n",
    "    # ans: Recall is most important because we want to avoid false negatives \n",
    "    # (i.e. the model states that a woman does not have breast cancer when she actually has it))"
   ]
  }
 ],
 "metadata": {
  "kernelspec": {
   "display_name": "Python 3 (ipykernel)",
   "language": "python",
   "name": "python3"
  },
  "language_info": {
   "codemirror_mode": {
    "name": "ipython",
    "version": 3
   },
   "file_extension": ".py",
   "mimetype": "text/x-python",
   "name": "python",
   "nbconvert_exporter": "python",
   "pygments_lexer": "ipython3",
   "version": "3.11.1"
  }
 },
 "nbformat": 4,
 "nbformat_minor": 5
}
